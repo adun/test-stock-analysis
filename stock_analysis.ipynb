{
 "cells": [
  {
   "metadata": {},
   "cell_type": "markdown",
   "source": [
    "# CASA stock analysis\n",
    "\n",
    "### Data set\n",
    " \n",
    "The dataset contains daily stock prices of Crédit Agricole SA from December 14, 2001, to November 8, 2024.\n",
    "The stock prices are presented in the OHLC format (Open, High, Low, Close), with Adjusted Close and the Volume.\n",
    "- Open: The price at the market opening.\n",
    "- High: The highest price the stock reached during the trading session.\n",
    "- Low: The lowest price the stock reached during the trading session.\n",
    "- Close: The price when the market closed.\n",
    "- Adjusted Close: The price when the market closed after adjustments for all applicable splits and dividend distributions.\n",
    "- Volume: The number of shares bought and sold during the trading session."
   ],
   "id": "d993b271cfb77e20"
  },
  {
   "metadata": {
    "collapsed": true
   },
   "cell_type": "code",
   "source": "import pandas as pd",
   "id": "initial_id",
   "outputs": [],
   "execution_count": null
  },
  {
   "metadata": {},
   "cell_type": "markdown",
   "source": "### Load Crédit Agricole SA stock data from the CSV file",
   "id": "5f2d2cae82dfd09f"
  },
  {
   "metadata": {},
   "cell_type": "code",
   "source": [
    "casa_df = ...\n",
    "casa_df.shape"
   ],
   "id": "a8849499445b1edc",
   "outputs": [],
   "execution_count": null
  },
  {
   "metadata": {},
   "cell_type": "markdown",
   "source": [
    "<details>\n",
    "<summary>hint</summary>\n",
    "\n",
    "Use the pandas `read_csv()` function to read the CSV file.<br/>\n",
    "Use `parse_dates` attribute to specify which columns are dates in the CSV file.<br/>\n",
    "Use `index_col` attribute to specify the first column as the DataFrame index.\n",
    "index_col\n",
    "</details>"
   ],
   "id": "73ebba848474fbe9"
  },
  {
   "metadata": {},
   "cell_type": "markdown",
   "source": [
    "<details>\n",
    "<summary>answer</summary>\n",
    "\n",
    "```python\n",
    "casa_df = pd.read_csv('casa.csv', parse_dates=['Date'], index_col=0)\n",
    "```\n",
    "</details>"
   ],
   "id": "601af12d6a9f4f73"
  },
  {
   "metadata": {},
   "cell_type": "markdown",
   "source": "### What is the data type of each column",
   "id": "d779405e272544c9"
  },
  {
   "metadata": {},
   "cell_type": "code",
   "source": [
    "types = ...\n",
    "types"
   ],
   "id": "5d8c1dbe81ab0ff2",
   "outputs": [],
   "execution_count": null
  },
  {
   "metadata": {},
   "cell_type": "markdown",
   "source": [
    "<details>\n",
    "<summary>hint</summary>\n",
    "\n",
    "Use `dtypes` property to get the data type of each column of the dataframe.\n",
    "</details>"
   ],
   "id": "33622c34fb014d0e"
  },
  {
   "metadata": {},
   "cell_type": "markdown",
   "source": [
    "<details>\n",
    "<summary>answer</summary>\n",
    "\n",
    "```python\n",
    "types = casa_df.dtypes\n",
    "```\n",
    "</details>"
   ],
   "id": "e62c15e67c8e90b8"
  },
  {
   "metadata": {},
   "cell_type": "markdown",
   "source": "#### Why is the `Volume` not typed as integer, how can the discrepancy be resolved? ",
   "id": "3d186949279c70d9"
  },
  {
   "metadata": {},
   "cell_type": "code",
   "source": [
    "casa_df['Volume'] = ...\n",
    "casa_df.dtypes"
   ],
   "id": "182116c8f17f5bf9",
   "outputs": [],
   "execution_count": null
  },
  {
   "metadata": {},
   "cell_type": "markdown",
   "source": [
    "<details>\n",
    "<summary>hint</summary>\n",
    "\n",
    "use the `replace()` function of the dataframe to replace the string value of the `Volume`.<br/>\n",
    "Use the `astype()` function of the dataframe to cast a pandas object to a specified dtype (`int`).\n",
    "</details>"
   ],
   "id": "8c00d875fccd3f3f"
  },
  {
   "metadata": {},
   "cell_type": "markdown",
   "source": [
    "<details>\n",
    "<summary>answer</summary>\n",
    "\n",
    "```python\n",
    "casa_df['Volume'] = casa_df['Volume'].replace('-',0).astype(int)\n",
    "casa_df.dtypes\n",
    "```\n",
    "</details>"
   ],
   "id": "23bd122da4e76e63"
  },
  {
   "metadata": {},
   "cell_type": "markdown",
   "source": "### Focus of the COVID-19 pandemic on Crédit Agricole SA stock",
   "id": "37f0491b702efd63"
  },
  {
   "metadata": {},
   "cell_type": "markdown",
   "source": "#### Read stock data from June 2019 to May 2021.",
   "id": "665ae686aac5600c"
  },
  {
   "metadata": {},
   "cell_type": "code",
   "source": [
    "start_date = '2019-06-01'\n",
    "end_date = '2021-05-31'\n",
    "casa_covid_df = casa_df.copy()\n",
    "\n",
    "casa_covid_df = ...\n",
    "casa_covid_df.shape"
   ],
   "id": "170f3b80f8591059",
   "outputs": [],
   "execution_count": null
  },
  {
   "metadata": {},
   "cell_type": "markdown",
   "source": [
    "<details>\n",
    "<summary>hint</summary>\n",
    "\n",
    "Use boolean mask to filter the rows based on the index `Date` range.\n",
    "</details>"
   ],
   "id": "78f2a109317217bc"
  },
  {
   "metadata": {},
   "cell_type": "markdown",
   "source": [
    "<details>\n",
    "<summary>answer</summary>\n",
    "\n",
    "```python\n",
    "casa_covid_df = casa_covid_df[\n",
    "    (casa_covid_df.index >= start_date) & (casa_covid_df.index <= end_date)\n",
    "]\n",
    "```\n",
    "</details>"
   ],
   "id": "4b3eba6491267d70"
  },
  {
   "metadata": {},
   "cell_type": "markdown",
   "source": [
    "#### Create a new `Low_High_Diff` column to calculate the difference between the `Low` and `High` values.\n",
    "#### Create a new `Daily_Diff` column to calculate the difference between the `Close` and `Open` values."
   ],
   "id": "fe3d3ec5c85c1632"
  },
  {
   "metadata": {},
   "cell_type": "code",
   "source": [
    "casa_covid_df['Low_High_Diff'] = ...\n",
    "casa_covid_df['Daily_Diff'] = ..."
   ],
   "id": "e80bcb4197ba8fd5",
   "outputs": [],
   "execution_count": null
  },
  {
   "metadata": {},
   "cell_type": "markdown",
   "source": [
    "<details>\n",
    "<summary>hint</summary>\n",
    "\n",
    "Use `-` operator to find the difference between the `High` and `Low` values.<br />\n",
    "Use `-` operator to find the difference between the `Close` and `Open` values.<br />\n",
    "</details>"
   ],
   "id": "6abdf8270b85a8f4"
  },
  {
   "metadata": {},
   "cell_type": "markdown",
   "source": [
    "<details>\n",
    "<summary>answer</summary>\n",
    "\n",
    "```python\n",
    "casa_covid_df['Low_High_Diff'] = casa_covid_df['High'] - casa_covid_df['Low']\n",
    "casa_covid_df['Daily_Diff'] = casa_covid_df['Close'] - casa_covid_df['Open']\n",
    "```\n",
    "</details>"
   ],
   "id": "e74de3756bbb830e"
  },
  {
   "metadata": {},
   "cell_type": "markdown",
   "source": "#### Find the five most active trading days",
   "id": "64e44be149d85a97"
  },
  {
   "metadata": {},
   "cell_type": "code",
   "source": [
    "top5 = ...\n",
    "top5"
   ],
   "id": "70bc79df03ae25ca",
   "outputs": [],
   "execution_count": null
  },
  {
   "metadata": {},
   "cell_type": "markdown",
   "source": [
    "<details>\n",
    "<summary>hint</summary>\n",
    "\n",
    "Use the `nlargest()` function to return the first n rows ordered by columns in descending order.<br />\n",
    "or<br />\n",
    "Use the `sort_values()` function to sort the DataFrame and the `head()` function to return the first n rows. \n",
    "</details>"
   ],
   "id": "7617194cd976de50"
  },
  {
   "metadata": {},
   "cell_type": "markdown",
   "source": [
    "<details>\n",
    "<summary>answer</summary>\n",
    "\n",
    "nlargest answer:\n",
    "```python\n",
    "top5 = casa_covid_df.nlargest(n=5, columns='Volume')\n",
    "```\n",
    "\n",
    "sort answer:\n",
    "```python\n",
    "top5 = casa_covid_df.sort_values(by=['Volume'], ascending=False).head(5)\n",
    "```\n",
    "</details>"
   ],
   "id": "226a8788fe1ebda"
  },
  {
   "metadata": {},
   "cell_type": "markdown",
   "source": "#### Find the maximum and minimum values",
   "id": "365081351090eef6"
  },
  {
   "metadata": {},
   "cell_type": "code",
   "source": [
    "min_date = ...\n",
    "min_value = ...\n",
    "\n",
    "max_date = ...\n",
    "max_value = ...\n",
    "\n",
    "display(min_date, min_value, max_date, max_value)"
   ],
   "id": "36ee217dcd11dfb0",
   "outputs": [],
   "execution_count": null
  },
  {
   "metadata": {},
   "cell_type": "markdown",
   "source": [
    "<details>\n",
    "<summary>hint</summary>\n",
    "\n",
    "Use the `min()` and `max()` functions to find the minimum and maximum values.<br />\n",
    "Use `idxmin()` and `idxmax()` functions to find the index of the minimum and maximum value of the series.<br />\n",
    "</details>"
   ],
   "id": "9ec9c2bee3bdefc9"
  },
  {
   "metadata": {},
   "cell_type": "markdown",
   "source": [
    "<details>\n",
    "<summary>answer</summary>\n",
    "\n",
    "```python\n",
    "min_date = casa_covid_df['Daily_Diff'].idxmin()\n",
    "min_value = casa_covid_df['Daily_Diff'].min()\n",
    "\n",
    "max_date = casa_covid_df['Daily_Diff'].idxmax()\n",
    "max_value = casa_covid_df['Daily_Diff'].max()\n",
    "```\n",
    "</details>"
   ],
   "id": "ab47c5bab1045966"
  },
  {
   "metadata": {},
   "cell_type": "markdown",
   "source": "#### Plot Crédit Agricole SA `Close` and `Adjusted Close` prices",
   "id": "a40c8dc3907785a"
  },
  {
   "metadata": {},
   "cell_type": "code",
   "source": "chart = ...",
   "id": "9c2efb0fbf23d0b",
   "outputs": [],
   "execution_count": null
  },
  {
   "metadata": {},
   "cell_type": "markdown",
   "source": [
    "<details>\n",
    "<summary>hint</summary>\n",
    "\n",
    "Use the `plot.line()` function on the dataframe to plot the line chart.<br />\n",
    "Plot `Close` and `Adj Close` on the y-axis. \n",
    "</details>"
   ],
   "id": "df59b75421e85d6"
  },
  {
   "metadata": {},
   "cell_type": "markdown",
   "source": [
    "<details>\n",
    "<summary>answer</summary>\n",
    "\n",
    "```python\n",
    "casa_covid_df.plot.line(y=['Close', 'Adj Close'], title='Crédit Agricole SA')\n",
    "```\n",
    "</details>"
   ],
   "id": "6b0ae5b725ec8101"
  },
  {
   "metadata": {},
   "cell_type": "markdown",
   "source": "#### Plot Crédit Agricole SA `Low_High_Diff` on the y-axis and `Volume` on the secondary y-axis  ",
   "id": "2701d8a7d7e87b1f"
  },
  {
   "metadata": {},
   "cell_type": "code",
   "source": "ax = ...\n",
   "id": "42dbf7811d9e1f5",
   "outputs": [],
   "execution_count": null
  },
  {
   "metadata": {},
   "cell_type": "markdown",
   "source": [
    "<details>\n",
    "<summary>hint</summary>\n",
    "\n",
    "Use the `plot.line()` function on the dataframe to plot the line chart.<br />\n",
    "Plot `Low_High_Diff` on the y-axis.<br />\n",
    "Plot `Volume` on the secondary y-axis.\n",
    "</details>"
   ],
   "id": "ad81f5ae3afde787"
  },
  {
   "metadata": {},
   "cell_type": "markdown",
   "source": [
    "<details>\n",
    "<summary>answer</summary>\n",
    "\n",
    "```python\n",
    "ax = casa_covid_df.plot.line(y=['Low_High_Diff'], title='Crédit Agricole SA')\n",
    "casa_covid_df.plot.line(y='Volume', secondary_y=True, ax=ax)\n",
    "```\n",
    "</details>"
   ],
   "id": "70153e6223d46e80"
  },
  {
   "metadata": {},
   "cell_type": "markdown",
   "source": "#### Filter data to select rows where the volume is greater than 150mm and the closing price is greater than the opening price ",
   "id": "be39c13e62e2a023"
  },
  {
   "metadata": {},
   "cell_type": "code",
   "source": [
    "filtered_df = ...\n",
    "filtered_df"
   ],
   "id": "1bba9d9786b4043d",
   "outputs": [],
   "execution_count": null
  },
  {
   "metadata": {},
   "cell_type": "markdown",
   "source": [
    "<details>\n",
    "<summary>hint</summary>\n",
    "\n",
    "Use the `loc` function with multiple boolean conditions to filter the data for multiple criteria.\n",
    "Use `&` to combine the conditions.\n",
    "</details>"
   ],
   "id": "c92d04d91f83c0fd"
  },
  {
   "metadata": {},
   "cell_type": "markdown",
   "source": [
    "<details>\n",
    "<summary>answer</summary>\n",
    "\n",
    "```python\n",
    "filtered_df = casa_covid_df.loc[(casa_covid_df['Volume'] > 15000000) & (casa_covid_df['Close'] > casa_covid_df['Open'])]\n",
    "```\n",
    "</details>"
   ],
   "id": "bbf3a67602470c69"
  },
  {
   "metadata": {},
   "cell_type": "markdown",
   "source": "#### Group the stock data to get a monthly summary of the Close price performance in year 2020. ",
   "id": "992199f6f3dba5fb"
  },
  {
   "metadata": {},
   "cell_type": "code",
   "source": [
    "year2020_df = casa_covid_df.loc['2020']\n",
    "monthly_df = ...\n",
    "monthly_df.plot.bar(y='Close', title='Crédit Agricole SA performance in 2020')"
   ],
   "id": "9e77b7e93a13dfd",
   "outputs": [],
   "execution_count": null
  },
  {
   "metadata": {},
   "cell_type": "markdown",
   "source": [
    "<details>\n",
    "<summary>hint</summary>\n",
    "\n",
    "Use the `groupby()` function on the dataframe to group the rows and the sum() function on the values.\n",
    "Use the `to_period('M')` function to cast the index at a monthly frequency.\n",
    "</details>"
   ],
   "id": "d3b5a074bba1fa8b"
  },
  {
   "metadata": {},
   "cell_type": "markdown",
   "source": [
    "<details>\n",
    "<summary>answer</summary>\n",
    "\n",
    "```python\n",
    "year2020_df = casa_covid_df.loc['2020']\n",
    "monthly_df = year2020_df.groupby(pd.to_datetime(year2020_df.index).to_period('M'))['Close'].sum()\n",
    "```\n",
    "</details>"
   ],
   "id": "188004093e79f37a"
  }
 ],
 "metadata": {
  "kernelspec": {
   "display_name": "Python 3",
   "language": "python",
   "name": "python3"
  },
  "language_info": {
   "codemirror_mode": {
    "name": "ipython",
    "version": 2
   },
   "file_extension": ".py",
   "mimetype": "text/x-python",
   "name": "python",
   "nbconvert_exporter": "python",
   "pygments_lexer": "ipython2",
   "version": "2.7.6"
  }
 },
 "nbformat": 4,
 "nbformat_minor": 5
}
